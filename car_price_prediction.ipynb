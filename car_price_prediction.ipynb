{
 "cells": [
  {
   "cell_type": "markdown",
   "source": [
    "### DS Academy challenge\n",
    "# Cars Price Prediction\n",
    "#### Piotr Baryczkowski"
   ],
   "metadata": {
    "collapsed": false,
    "pycharm": {
     "name": "#%% md\n"
    }
   }
  },
  {
   "cell_type": "markdown",
   "source": [
    "## Exploratory data analysis\n",
    "\n",
    "Firstly we will categorize data types of attributes from Otomoto dataset, to correctly apply statistical measurements and conclude certain assumptions about it. In the next step we are going to analyse the distributions of attributes, look for errors and missing values. In the last step we will try to understand how certain attributes affect target price of vehicle e.g. is newer car more expensive than a slightly older car (vehicle_year attribute)?\n",
    "\n",
    "#### Python libraries"
   ],
   "metadata": {
    "collapsed": false,
    "pycharm": {
     "name": "#%% md\n"
    }
   }
  },
  {
   "cell_type": "code",
   "execution_count": 15,
   "outputs": [],
   "source": [
    "import numpy as np\n",
    "import pandas as pd\n",
    "import matplotlib.pyplot as plt\n",
    "import seaborn as sns\n",
    "import os"
   ],
   "metadata": {
    "collapsed": false,
    "pycharm": {
     "name": "#%%\n"
    }
   }
  },
  {
   "cell_type": "markdown",
   "source": [
    "#### Dataset overview"
   ],
   "metadata": {
    "collapsed": false,
    "pycharm": {
     "name": "#%% md\n"
    }
   }
  },
  {
   "cell_type": "code",
   "execution_count": 16,
   "outputs": [
    {
     "data": {
      "text/plain": "        make     model  vehicle_year   mileage  engine_capacity  engine_power  \\\n0       audi        a6          2013  153817.0           1984.0         180.0   \n1      skoda     fabia          2004  115000.0           1390.0          75.0   \n2  chevrolet    camaro          2012  299000.0           3600.0         323.0   \n3        bmw   seria-3          2013  155000.0           1995.0         163.0   \n4    renault  talisman          2017  167000.0           1600.0         130.0   \n\n     gearbox fuel_type  damaged  is_business  target_price  \n0  automatic    petrol        0            0       69900.0  \n1     manual    petrol        0            1        8299.0  \n2  automatic    petrol        0            1       54500.0  \n3  automatic    diesel        0            0       62000.0  \n4  automatic    diesel        0            1       52999.0  ",
      "text/html": "<div>\n<style scoped>\n    .dataframe tbody tr th:only-of-type {\n        vertical-align: middle;\n    }\n\n    .dataframe tbody tr th {\n        vertical-align: top;\n    }\n\n    .dataframe thead th {\n        text-align: right;\n    }\n</style>\n<table border=\"1\" class=\"dataframe\">\n  <thead>\n    <tr style=\"text-align: right;\">\n      <th></th>\n      <th>make</th>\n      <th>model</th>\n      <th>vehicle_year</th>\n      <th>mileage</th>\n      <th>engine_capacity</th>\n      <th>engine_power</th>\n      <th>gearbox</th>\n      <th>fuel_type</th>\n      <th>damaged</th>\n      <th>is_business</th>\n      <th>target_price</th>\n    </tr>\n  </thead>\n  <tbody>\n    <tr>\n      <th>0</th>\n      <td>audi</td>\n      <td>a6</td>\n      <td>2013</td>\n      <td>153817.0</td>\n      <td>1984.0</td>\n      <td>180.0</td>\n      <td>automatic</td>\n      <td>petrol</td>\n      <td>0</td>\n      <td>0</td>\n      <td>69900.0</td>\n    </tr>\n    <tr>\n      <th>1</th>\n      <td>skoda</td>\n      <td>fabia</td>\n      <td>2004</td>\n      <td>115000.0</td>\n      <td>1390.0</td>\n      <td>75.0</td>\n      <td>manual</td>\n      <td>petrol</td>\n      <td>0</td>\n      <td>1</td>\n      <td>8299.0</td>\n    </tr>\n    <tr>\n      <th>2</th>\n      <td>chevrolet</td>\n      <td>camaro</td>\n      <td>2012</td>\n      <td>299000.0</td>\n      <td>3600.0</td>\n      <td>323.0</td>\n      <td>automatic</td>\n      <td>petrol</td>\n      <td>0</td>\n      <td>1</td>\n      <td>54500.0</td>\n    </tr>\n    <tr>\n      <th>3</th>\n      <td>bmw</td>\n      <td>seria-3</td>\n      <td>2013</td>\n      <td>155000.0</td>\n      <td>1995.0</td>\n      <td>163.0</td>\n      <td>automatic</td>\n      <td>diesel</td>\n      <td>0</td>\n      <td>0</td>\n      <td>62000.0</td>\n    </tr>\n    <tr>\n      <th>4</th>\n      <td>renault</td>\n      <td>talisman</td>\n      <td>2017</td>\n      <td>167000.0</td>\n      <td>1600.0</td>\n      <td>130.0</td>\n      <td>automatic</td>\n      <td>diesel</td>\n      <td>0</td>\n      <td>1</td>\n      <td>52999.0</td>\n    </tr>\n  </tbody>\n</table>\n</div>"
     },
     "execution_count": 16,
     "metadata": {},
     "output_type": "execute_result"
    }
   ],
   "source": [
    "# Load dataset\n",
    "df = pd.read_csv(f\"{os.getcwd()}/dataset/otomoto_price_prediction_data.csv\")\n",
    "# Display first 5 rows from dataset\n",
    "df.head()"
   ],
   "metadata": {
    "collapsed": false,
    "pycharm": {
     "name": "#%%\n"
    }
   }
  },
  {
   "cell_type": "code",
   "execution_count": 17,
   "outputs": [
    {
     "data": {
      "text/plain": "(206207, 11)"
     },
     "execution_count": 17,
     "metadata": {},
     "output_type": "execute_result"
    }
   ],
   "source": [
    "df.shape"
   ],
   "metadata": {
    "collapsed": false,
    "pycharm": {
     "name": "#%%\n"
    }
   }
  },
  {
   "cell_type": "markdown",
   "source": [
    "Dataset consists of 206207 samples, which are described with 10 attributes and the target price."
   ],
   "metadata": {
    "collapsed": false,
    "pycharm": {
     "name": "#%% md\n"
    }
   }
  },
  {
   "cell_type": "markdown",
   "source": [
    "#### Attribute types\n",
    "\n",
    "__Categorical attributes:__\n",
    "\n",
    "- Nominal\n",
    "  - make\n",
    "  - model\n",
    "  - gearbox\n",
    "  - fuel_type\n",
    "\n",
    "__Numerical attributes:__\n",
    "\n",
    "- Discrete\n",
    "  - damaged\n",
    "  - is_business\n",
    "\n",
    "- Interval\n",
    "  - vehicle_year\n",
    "\n",
    "- Continuous\n",
    "  - mileage\n",
    "  - engine_capacity\n",
    "  - engine_power\n",
    "\n",
    "#### Target type\n",
    "\n",
    "The target price is categorized as a continuous type."
   ],
   "metadata": {
    "collapsed": false,
    "pycharm": {
     "name": "#%% md\n"
    }
   }
  },
  {
   "cell_type": "markdown",
   "source": [
    "#### Looking for missing values and errors\n",
    "\n",
    "Firstly we will make sure if there are some missing values in our dataset."
   ],
   "metadata": {
    "collapsed": false,
    "pycharm": {
     "name": "#%% md\n"
    }
   }
  },
  {
   "cell_type": "code",
   "execution_count": 18,
   "outputs": [
    {
     "data": {
      "text/plain": "make                  0\nmodel                 0\nvehicle_year          0\nmileage            1354\nengine_capacity    2178\nengine_power       1579\ngearbox            1365\nfuel_type             0\ndamaged               0\nis_business           0\ntarget_price          0\ndtype: int64"
     },
     "execution_count": 18,
     "metadata": {},
     "output_type": "execute_result"
    }
   ],
   "source": [
    "df.isna().sum()"
   ],
   "metadata": {
    "collapsed": false,
    "pycharm": {
     "name": "#%%\n"
    }
   }
  },
  {
   "cell_type": "markdown",
   "source": [
    "As we can see there is some lack of data in mileage, engine_capacity, engine_power and gearbox attribute. We will deal with this problem later in data preprocessing phase.\n",
    "\n",
    "Now we will look for some errors."
   ],
   "metadata": {
    "collapsed": false,
    "pycharm": {
     "name": "#%% md\n"
    }
   }
  },
  {
   "cell_type": "code",
   "execution_count": 19,
   "outputs": [
    {
     "data": {
      "text/plain": "        vehicle_year       mileage  engine_capacity   engine_power  \\\ncount  206207.000000  2.048530e+05    204029.000000  204628.000000   \nmean     2012.313855  6.656787e+05      1865.096922     151.300301   \nstd         6.453940  2.040768e+08       708.559717      76.915073   \nmin      1917.000000  1.000000e+00       400.000000       1.000000   \n25%      2008.000000  4.500000e+04      1461.000000     105.000000   \n50%      2013.000000  1.378500e+05      1797.000000     136.000000   \n75%      2017.000000  1.990000e+05      1997.000000     170.000000   \nmax      2021.000000  9.060612e+10      8400.000000    1500.000000   \n\n             damaged    is_business  target_price  \ncount  206207.000000  206207.000000  2.062070e+05  \nmean        0.038059       0.600038  6.273519e+04  \nstd         0.191339       0.489891  8.604596e+04  \nmin         0.000000       0.000000  6.000000e+02  \n25%         0.000000       0.000000  1.799900e+04  \n50%         0.000000       1.000000  3.590000e+04  \n75%         0.000000       1.000000  7.490000e+04  \nmax         1.000000       1.000000  5.250000e+06  ",
      "text/html": "<div>\n<style scoped>\n    .dataframe tbody tr th:only-of-type {\n        vertical-align: middle;\n    }\n\n    .dataframe tbody tr th {\n        vertical-align: top;\n    }\n\n    .dataframe thead th {\n        text-align: right;\n    }\n</style>\n<table border=\"1\" class=\"dataframe\">\n  <thead>\n    <tr style=\"text-align: right;\">\n      <th></th>\n      <th>vehicle_year</th>\n      <th>mileage</th>\n      <th>engine_capacity</th>\n      <th>engine_power</th>\n      <th>damaged</th>\n      <th>is_business</th>\n      <th>target_price</th>\n    </tr>\n  </thead>\n  <tbody>\n    <tr>\n      <th>count</th>\n      <td>206207.000000</td>\n      <td>2.048530e+05</td>\n      <td>204029.000000</td>\n      <td>204628.000000</td>\n      <td>206207.000000</td>\n      <td>206207.000000</td>\n      <td>2.062070e+05</td>\n    </tr>\n    <tr>\n      <th>mean</th>\n      <td>2012.313855</td>\n      <td>6.656787e+05</td>\n      <td>1865.096922</td>\n      <td>151.300301</td>\n      <td>0.038059</td>\n      <td>0.600038</td>\n      <td>6.273519e+04</td>\n    </tr>\n    <tr>\n      <th>std</th>\n      <td>6.453940</td>\n      <td>2.040768e+08</td>\n      <td>708.559717</td>\n      <td>76.915073</td>\n      <td>0.191339</td>\n      <td>0.489891</td>\n      <td>8.604596e+04</td>\n    </tr>\n    <tr>\n      <th>min</th>\n      <td>1917.000000</td>\n      <td>1.000000e+00</td>\n      <td>400.000000</td>\n      <td>1.000000</td>\n      <td>0.000000</td>\n      <td>0.000000</td>\n      <td>6.000000e+02</td>\n    </tr>\n    <tr>\n      <th>25%</th>\n      <td>2008.000000</td>\n      <td>4.500000e+04</td>\n      <td>1461.000000</td>\n      <td>105.000000</td>\n      <td>0.000000</td>\n      <td>0.000000</td>\n      <td>1.799900e+04</td>\n    </tr>\n    <tr>\n      <th>50%</th>\n      <td>2013.000000</td>\n      <td>1.378500e+05</td>\n      <td>1797.000000</td>\n      <td>136.000000</td>\n      <td>0.000000</td>\n      <td>1.000000</td>\n      <td>3.590000e+04</td>\n    </tr>\n    <tr>\n      <th>75%</th>\n      <td>2017.000000</td>\n      <td>1.990000e+05</td>\n      <td>1997.000000</td>\n      <td>170.000000</td>\n      <td>0.000000</td>\n      <td>1.000000</td>\n      <td>7.490000e+04</td>\n    </tr>\n    <tr>\n      <th>max</th>\n      <td>2021.000000</td>\n      <td>9.060612e+10</td>\n      <td>8400.000000</td>\n      <td>1500.000000</td>\n      <td>1.000000</td>\n      <td>1.000000</td>\n      <td>5.250000e+06</td>\n    </tr>\n  </tbody>\n</table>\n</div>"
     },
     "execution_count": 19,
     "metadata": {},
     "output_type": "execute_result"
    }
   ],
   "source": [
    "df.describe()"
   ],
   "metadata": {
    "collapsed": false,
    "pycharm": {
     "name": "#%%\n"
    }
   }
  },
  {
   "cell_type": "markdown",
   "source": [
    "In the table above, we can find some interesting information e.g. minimal engine_power is 1 or maximum mileage which is 90 billions. To build the model correctly we will have to clear our data from that noise."
   ],
   "metadata": {
    "collapsed": false,
    "pycharm": {
     "name": "#%% md\n"
    }
   }
  },
  {
   "cell_type": "markdown",
   "source": [
    "### Statistics\n",
    "\n",
    "#### Target price distribution\n",
    "\n",
    "1. The distribution is left skewed and of high variance\n",
    "2. 75% of cars cost less than 74900 PLN\n",
    "3. Maximum value of vehicle is 5250000 PLN, minimum is equal 600 PLN\n",
    "\n",
    "I reckon, that these single cars with high prices can affect our model, so we have to consider that later."
   ],
   "metadata": {
    "collapsed": false,
    "pycharm": {
     "name": "#%% md\n"
    }
   }
  },
  {
   "cell_type": "code",
   "execution_count": 315,
   "outputs": [
    {
     "data": {
      "text/plain": "count    2.062070e+05\nmean     6.273519e+04\nstd      8.604596e+04\nmin      6.000000e+02\n25%      1.799900e+04\n50%      3.590000e+04\n75%      7.490000e+04\nmax      5.250000e+06\nName: target_price, dtype: float64"
     },
     "execution_count": 315,
     "metadata": {},
     "output_type": "execute_result"
    }
   ],
   "source": [
    "df.target_price.describe()"
   ],
   "metadata": {
    "collapsed": false,
    "pycharm": {
     "name": "#%%\n"
    }
   }
  },
  {
   "cell_type": "code",
   "execution_count": 271,
   "outputs": [
    {
     "data": {
      "text/plain": "<Figure size 1440x576 with 1 Axes>",
      "image/png": "[encoded data removed]"
     },
     "metadata": {},
     "output_type": "display_data"
    }
   ],
   "source": [
    "IQR = df.target_price.quantile(0.75) - df.target_price.quantile(0.25)\n",
    "h = 2 * IQR * len(df.target_price)**(-1/3)\n",
    "bins = (np.max(df.target_price) - np.min(df.target_price)) // h\n",
    "\n",
    "sns.displot(data=df.target_price, stat=\"density\", kde=True,\n",
    "            bins=int(np.sqrt(bins)), height=8, aspect=20 / 8).set(title='Car Price Distribution Plot');"
   ],
   "metadata": {
    "collapsed": false,
    "pycharm": {
     "name": "#%%\n"
    }
   }
  },
  {
   "cell_type": "markdown",
   "source": [
    "#### Make\n",
    "\n",
    "Make attribute consists of 108 unique values. The most popular make is Volkswagen."
   ],
   "metadata": {
    "collapsed": false,
    "pycharm": {
     "name": "#%% md\n"
    }
   }
  },
  {
   "cell_type": "code",
   "execution_count": 167,
   "outputs": [
    {
     "data": {
      "text/plain": "count         206207\nunique           108\ntop       volkswagen\nfreq           18392\nName: make, dtype: object"
     },
     "execution_count": 167,
     "metadata": {},
     "output_type": "execute_result"
    }
   ],
   "source": [
    "df.make.describe()"
   ],
   "metadata": {
    "collapsed": false,
    "pycharm": {
     "name": "#%%\n"
    }
   }
  },
  {
   "cell_type": "code",
   "execution_count": 170,
   "outputs": [
    {
     "name": "stdout",
     "output_type": "stream",
     "text": [
      "Most popular makes:\n",
      "volkswagen       18392\n",
      "opel             16652\n",
      "ford             16437\n",
      "bmw              15783\n",
      "audi             15349\n",
      "mercedes-benz    11613\n",
      "toyota           10839\n",
      "renault          10687\n",
      "skoda            10586\n",
      "peugeot           8255\n",
      "citroen           7239\n",
      "hyundai           6145\n",
      "kia               6119\n",
      "volvo             5781\n",
      "nissan            5083\n",
      "Name: make, dtype: int64\n"
     ]
    }
   ],
   "source": [
    "makes_counted = df.make.value_counts()\n",
    "top_makes = makes_counted.head(15)\n",
    "print(f\"Most popular makes:\\n{top_makes}\")"
   ],
   "metadata": {
    "collapsed": false,
    "pycharm": {
     "name": "#%%\n"
    }
   }
  },
  {
   "cell_type": "code",
   "execution_count": 176,
   "outputs": [
    {
     "data": {
      "text/plain": "<Figure size 1440x576 with 1 Axes>",
      "image/png": "[encoded data removed]"
     },
     "metadata": {},
     "output_type": "display_data"
    }
   ],
   "source": [
    "sns.barplot(x=top_makes.index, y=top_makes).set(title='Most Popular Car Makes');"
   ],
   "metadata": {
    "collapsed": false,
    "pycharm": {
     "name": "#%%\n"
    }
   }
  },
  {
   "cell_type": "code",
   "execution_count": 182,
   "outputs": [
    {
     "name": "stdout",
     "output_type": "stream",
     "text": [
      "Rarest makes:\n",
      "radical        2\n",
      "gaz            2\n",
      "autobianchi    2\n",
      "vanderhall     2\n",
      "brilliance     2\n",
      "piaggio        1\n",
      "tarpan         1\n",
      "talbot         1\n",
      "bac            1\n",
      "scion          1\n",
      "vauxhall       1\n",
      "grecav         1\n",
      "shuanghuan     1\n",
      "moskwicz       1\n",
      "zastawa        1\n",
      "Name: make, dtype: int64\n"
     ]
    }
   ],
   "source": [
    "rare_makes = makes_counted.tail(15)\n",
    "print(f\"Rarest makes:\\n{rare_makes}\")"
   ],
   "metadata": {
    "collapsed": false,
    "pycharm": {
     "name": "#%%\n"
    }
   }
  },
  {
   "cell_type": "markdown",
   "source": [
    "#### Model\n",
    "\n",
    "In our dataset we can find 1165 unique car models. Astra is the most popular vehicle model in our dataset."
   ],
   "metadata": {
    "collapsed": false,
    "pycharm": {
     "name": "#%% md\n"
    }
   }
  },
  {
   "cell_type": "code",
   "execution_count": 183,
   "outputs": [
    {
     "data": {
      "text/plain": "count     206207\nunique      1165\ntop        astra\nfreq        5573\nName: model, dtype: object"
     },
     "execution_count": 183,
     "metadata": {},
     "output_type": "execute_result"
    }
   ],
   "source": [
    "df.model.describe()"
   ],
   "metadata": {
    "collapsed": false,
    "pycharm": {
     "name": "#%%\n"
    }
   }
  },
  {
   "cell_type": "markdown",
   "source": [
    "Now we will look at the most popular vehicle models for our top_makes."
   ],
   "metadata": {
    "collapsed": false,
    "pycharm": {
     "name": "#%% md\n"
    }
   }
  },
  {
   "cell_type": "code",
   "execution_count": 211,
   "outputs": [
    {
     "data": {
      "text/plain": "              make    model\n6             audi       a4\n11             bmw  seria-3\n19         citroen       c3\n31            ford    focus\n37         hyundai      i30\n43             kia     ceed\n56   mercedes-benz  klasa-e\n63          nissan  qashqai\n66            opel    astra\n68         peugeot      308\n76         renault   megane\n84           skoda  octavia\n94          toyota  avensis\n100     volkswagen     golf\n101          volvo    xc-60",
      "text/html": "<div>\n<style scoped>\n    .dataframe tbody tr th:only-of-type {\n        vertical-align: middle;\n    }\n\n    .dataframe tbody tr th {\n        vertical-align: top;\n    }\n\n    .dataframe thead th {\n        text-align: right;\n    }\n</style>\n<table border=\"1\" class=\"dataframe\">\n  <thead>\n    <tr style=\"text-align: right;\">\n      <th></th>\n      <th>make</th>\n      <th>model</th>\n    </tr>\n  </thead>\n  <tbody>\n    <tr>\n      <th>6</th>\n      <td>audi</td>\n      <td>a4</td>\n    </tr>\n    <tr>\n      <th>11</th>\n      <td>bmw</td>\n      <td>seria-3</td>\n    </tr>\n    <tr>\n      <th>19</th>\n      <td>citroen</td>\n      <td>c3</td>\n    </tr>\n    <tr>\n      <th>31</th>\n      <td>ford</td>\n      <td>focus</td>\n    </tr>\n    <tr>\n      <th>37</th>\n      <td>hyundai</td>\n      <td>i30</td>\n    </tr>\n    <tr>\n      <th>43</th>\n      <td>kia</td>\n      <td>ceed</td>\n    </tr>\n    <tr>\n      <th>56</th>\n      <td>mercedes-benz</td>\n      <td>klasa-e</td>\n    </tr>\n    <tr>\n      <th>63</th>\n      <td>nissan</td>\n      <td>qashqai</td>\n    </tr>\n    <tr>\n      <th>66</th>\n      <td>opel</td>\n      <td>astra</td>\n    </tr>\n    <tr>\n      <th>68</th>\n      <td>peugeot</td>\n      <td>308</td>\n    </tr>\n    <tr>\n      <th>76</th>\n      <td>renault</td>\n      <td>megane</td>\n    </tr>\n    <tr>\n      <th>84</th>\n      <td>skoda</td>\n      <td>octavia</td>\n    </tr>\n    <tr>\n      <th>94</th>\n      <td>toyota</td>\n      <td>avensis</td>\n    </tr>\n    <tr>\n      <th>100</th>\n      <td>volkswagen</td>\n      <td>golf</td>\n    </tr>\n    <tr>\n      <th>101</th>\n      <td>volvo</td>\n      <td>xc-60</td>\n    </tr>\n  </tbody>\n</table>\n</div>"
     },
     "execution_count": 211,
     "metadata": {},
     "output_type": "execute_result"
    }
   ],
   "source": [
    "make_most_popular_model = df.groupby('make').agg({'model': lambda x: x.mode().max()}).reset_index()\n",
    "top_models = make_most_popular_model.loc[make_most_popular_model['make'].isin(top_makes.index)]\n",
    "top_models"
   ],
   "metadata": {
    "collapsed": false,
    "pycharm": {
     "name": "#%%\n"
    }
   }
  },
  {
   "cell_type": "markdown",
   "source": [
    "#### Gearbox and fuel type\n",
    "\n",
    "In our dataset we can find 10 unique gearboxes and 7 unique fuel types. The most popular gearbox is manual and the most popular fuel type is petrol."
   ],
   "metadata": {
    "collapsed": false,
    "pycharm": {
     "name": "#%% md\n"
    }
   }
  },
  {
   "cell_type": "code",
   "execution_count": 216,
   "outputs": [
    {
     "data": {
      "text/plain": "       gearbox fuel_type\ncount   204842    206207\nunique      10         7\ntop     manual    petrol\nfreq    133598    103723",
      "text/html": "<div>\n<style scoped>\n    .dataframe tbody tr th:only-of-type {\n        vertical-align: middle;\n    }\n\n    .dataframe tbody tr th {\n        vertical-align: top;\n    }\n\n    .dataframe thead th {\n        text-align: right;\n    }\n</style>\n<table border=\"1\" class=\"dataframe\">\n  <thead>\n    <tr style=\"text-align: right;\">\n      <th></th>\n      <th>gearbox</th>\n      <th>fuel_type</th>\n    </tr>\n  </thead>\n  <tbody>\n    <tr>\n      <th>count</th>\n      <td>204842</td>\n      <td>206207</td>\n    </tr>\n    <tr>\n      <th>unique</th>\n      <td>10</td>\n      <td>7</td>\n    </tr>\n    <tr>\n      <th>top</th>\n      <td>manual</td>\n      <td>petrol</td>\n    </tr>\n    <tr>\n      <th>freq</th>\n      <td>133598</td>\n      <td>103723</td>\n    </tr>\n  </tbody>\n</table>\n</div>"
     },
     "execution_count": 216,
     "metadata": {},
     "output_type": "execute_result"
    }
   ],
   "source": [
    "df[['gearbox', 'fuel_type']].describe()"
   ],
   "metadata": {
    "collapsed": false,
    "pycharm": {
     "name": "#%%\n"
    }
   }
  },
  {
   "cell_type": "markdown",
   "source": [
    "As we can see below manual and automatic gearbox make up 97.3% of our dataset. The rest of vehicles mainly have dual-clutch or cvt gearboxes. There are few cars with semi-automatic, automatic-stepless, automatic-sequential, automatic-manual or automatic-stepless-sequential gearbox. Rarest gearbox, that we can find in our dataset is manual-sequential used in F1 cars."
   ],
   "metadata": {
    "collapsed": false,
    "pycharm": {
     "name": "#%% md\n"
    }
   }
  },
  {
   "cell_type": "code",
   "execution_count": 220,
   "outputs": [
    {
     "name": "stdout",
     "output_type": "stream",
     "text": [
      "Most popular gearbox:\n",
      "manual                           133598\n",
      "automatic                         67034\n",
      "dual-clutch                        2331\n",
      "cvt                                1742\n",
      "semi-automatic                       83\n",
      "automatic-stepless                   31\n",
      "automatic-sequential                  9\n",
      "automated-manual                      7\n",
      "automatic-stepless-sequential         6\n",
      "manual-sequential                     1\n",
      "Name: gearbox, dtype: int64\n"
     ]
    }
   ],
   "source": [
    "top_gearbox = df.gearbox.value_counts()\n",
    "print(f\"Most popular gearbox:\\n{top_gearbox}\")"
   ],
   "metadata": {
    "collapsed": false,
    "pycharm": {
     "name": "#%%\n"
    }
   }
  },
  {
   "cell_type": "code",
   "execution_count": 218,
   "outputs": [
    {
     "data": {
      "text/plain": "<Figure size 1440x576 with 1 Axes>",
      "image/png": "[encoded data removed]"
     },
     "metadata": {},
     "output_type": "display_data"
    }
   ],
   "source": [
    "sns.barplot(x=top_gearbox.index, y=top_gearbox).set(title='Most Popular Gearboxes');"
   ],
   "metadata": {
    "collapsed": false,
    "pycharm": {
     "name": "#%%\n"
    }
   }
  },
  {
   "cell_type": "markdown",
   "source": [
    "The most popular fuel types are petrol and diesel. More than 6000 cars are electric and hybrid. Almost 9000 cars have petrol-lpg fuel type. The least popular fuel types are petrol-cng and etanol."
   ],
   "metadata": {
    "collapsed": false,
    "pycharm": {
     "name": "#%% md\n"
    }
   }
  },
  {
   "cell_type": "code",
   "execution_count": 221,
   "outputs": [
    {
     "name": "stdout",
     "output_type": "stream",
     "text": [
      "Most popular fuel type:\n",
      "petrol        103723\n",
      "diesel         87669\n",
      "petrol-lpg      8655\n",
      "hybrid          5106\n",
      "electric         994\n",
      "petrol-cng        59\n",
      "etanol             1\n",
      "Name: fuel_type, dtype: int64\n"
     ]
    }
   ],
   "source": [
    "top_fuel = df.fuel_type.value_counts()\n",
    "print(f\"Most popular fuel type:\\n{top_fuel}\")"
   ],
   "metadata": {
    "collapsed": false,
    "pycharm": {
     "name": "#%%\n"
    }
   }
  },
  {
   "cell_type": "code",
   "execution_count": 222,
   "outputs": [
    {
     "data": {
      "text/plain": "<Figure size 1440x576 with 1 Axes>",
      "image/png": "[encoded data removed]"
     },
     "metadata": {},
     "output_type": "display_data"
    }
   ],
   "source": [
    "sns.barplot(x=top_fuel.index, y=top_fuel).set(title='Most Popular Fuel Types');"
   ],
   "metadata": {
    "collapsed": false,
    "pycharm": {
     "name": "#%%\n"
    }
   }
  },
  {
   "cell_type": "markdown",
   "source": [
    "#### Vehicle year\n",
    "\n",
    "The histogram of vehicle production year is right skewed. The oldest car is from 1917 and the newest is from 2021. As we can observe 75% of cars were produced after 2008, half of them after 2013 and 25% of them after 2017."
   ],
   "metadata": {
    "collapsed": false,
    "pycharm": {
     "name": "#%% md\n"
    }
   }
  },
  {
   "cell_type": "code",
   "execution_count": 297,
   "outputs": [
    {
     "data": {
      "text/plain": "count    206207.000000\nmean       2012.313855\nstd           6.453940\nmin        1917.000000\n25%        2008.000000\n50%        2013.000000\n75%        2017.000000\nmax        2021.000000\nName: vehicle_year, dtype: float64"
     },
     "execution_count": 297,
     "metadata": {},
     "output_type": "execute_result"
    }
   ],
   "source": [
    "df.vehicle_year.describe()"
   ],
   "metadata": {
    "collapsed": false,
    "pycharm": {
     "name": "#%%\n"
    }
   }
  },
  {
   "cell_type": "code",
   "execution_count": 321,
   "outputs": [
    {
     "data": {
      "text/plain": "<Figure size 1440x576 with 1 Axes>",
      "image/png": "[encoded data removed]"
     },
     "metadata": {},
     "output_type": "display_data"
    }
   ],
   "source": [
    "sns.histplot(data=df.vehicle_year, bins=18).set(title='Vehicle Production Year');"
   ],
   "metadata": {
    "collapsed": false,
    "pycharm": {
     "name": "#%%\n"
    }
   }
  },
  {
   "cell_type": "markdown",
   "source": [
    "#### Damaged and business cars\n",
    "\n",
    "96% of cars in our dataset are not damaged. 60% of sellers are business sellers rest of them are individual sellers."
   ],
   "metadata": {
    "collapsed": false,
    "pycharm": {
     "name": "#%% md\n"
    }
   }
  },
  {
   "cell_type": "code",
   "execution_count": 314,
   "outputs": [
    {
     "name": "stdout",
     "output_type": "stream",
     "text": [
      "Not damaged: 96.19%\n",
      "Damaged: 3.81%\n",
      "\n",
      "Is car damaged:\n",
      "No     198359\n",
      "Yes      7848\n",
      "Name: damaged, dtype: int64\n"
     ]
    }
   ],
   "source": [
    "is_damaged = df.damaged.copy()\n",
    "is_damaged = is_damaged.map({0: 'No', 1: 'Yes'})\n",
    "print(f\"Not damaged: {(is_damaged.value_counts()[0] / len(is_damaged) * 100):.2f}%\\n\"\n",
    "      f\"Damaged: {(is_damaged.value_counts()[1] / len(is_damaged) * 100):.2f}%\\n\")\n",
    "print(f\"Is car damaged:\\n{is_damaged.value_counts()}\")"
   ],
   "metadata": {
    "collapsed": false,
    "pycharm": {
     "name": "#%%\n"
    }
   }
  },
  {
   "cell_type": "code",
   "execution_count": 313,
   "outputs": [
    {
     "name": "stdout",
     "output_type": "stream",
     "text": [
      "Business seller: 60.00%\n",
      "Individual seller: 40.00%\n",
      "\n",
      "Type of sellers:\n",
      "business      123732\n",
      "individual     82475\n",
      "Name: is_business, dtype: int64\n"
     ]
    }
   ],
   "source": [
    "seller_type = df.is_business.copy()\n",
    "seller_type = seller_type.map({0:'individual', 1:'business'})\n",
    "print(f\"Business seller: {(seller_type.value_counts()[0] / len(seller_type) * 100):.2f}%\\n\"\n",
    "      f\"Individual seller: {(seller_type.value_counts()[1] / len(seller_type) * 100):.2f}%\\n\")\n",
    "print(f\"Type of sellers:\\n{seller_type.value_counts()}\")"
   ],
   "metadata": {
    "collapsed": false,
    "pycharm": {
     "name": "#%%\n"
    }
   }
  },
  {
   "cell_type": "code",
   "execution_count": null,
   "outputs": [],
   "source": [],
   "metadata": {
    "collapsed": false,
    "pycharm": {
     "name": "#%%\n"
    }
   }
  },
  {
   "cell_type": "code",
   "execution_count": null,
   "outputs": [],
   "source": [],
   "metadata": {
    "collapsed": false,
    "pycharm": {
     "name": "#%%\n"
    }
   }
  }
 ],
 "metadata": {
  "kernelspec": {
   "display_name": "Python 3",
   "language": "python",
   "name": "python3"
  },
  "language_info": {
   "codemirror_mode": {
    "name": "ipython",
    "version": 2
   },
   "file_extension": ".py",
   "mimetype": "text/x-python",
   "name": "python",
   "nbconvert_exporter": "python",
   "pygments_lexer": "ipython2",
   "version": "2.7.6"
  }
 },
 "nbformat": 4,
 "nbformat_minor": 0
}